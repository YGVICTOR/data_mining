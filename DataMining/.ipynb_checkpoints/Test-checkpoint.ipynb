{
 "cells": [
  {
   "cell_type": "code",
   "execution_count": 2,
   "metadata": {
    "pycharm": {
     "name": "#%%\n"
    }
   },
   "outputs": [
    {
     "name": "stdout",
     "output_type": "stream",
     "text": [
      "['Neutral', 'Positive', 'Extremely Negative', 'Negative', 'Extremely Positive']\n"
     ]
    }
   ],
   "source": [
    "import coronavirus_tweets\n",
    "import time\n",
    "start = time.time()\n",
    "coronavirus_tweets_df = coronavirus_tweets.read_csv_3(\"./data/coronavirus_tweets.csv\")\n",
    "possible_sentiments = coronavirus_tweets.get_sentiments(coronavirus_tweets_df)\n",
    "print(possible_sentiments)"
   ]
  },
  {
   "cell_type": "code",
   "execution_count": 5,
   "metadata": {},
   "outputs": [
    {
     "name": "stdout",
     "output_type": "stream",
     "text": [
      "Negative\n"
     ]
    }
   ],
   "source": [
    "second_most_popular_sentiment = coronavirus_tweets.second_most_popular_sentiment(coronavirus_tweets_df)\n",
    "print(second_most_popular_sentiment)"
   ]
  },
  {
   "cell_type": "code",
   "execution_count": 3,
   "metadata": {
    "pycharm": {
     "name": "#%%\n"
    }
   },
   "outputs": [
    {
     "name": "stdout",
     "output_type": "stream",
     "text": [
      "25-03-2020\n"
     ]
    }
   ],
   "source": [
    "date_most_popular_tweets = coronavirus_tweets.date_most_popular_tweets(coronavirus_tweets_df)\n",
    "print(date_most_popular_tweets)"
   ]
  },
  {
   "cell_type": "code",
   "execution_count": 4,
   "metadata": {
    "pycharm": {
     "name": "#%%\n"
    }
   },
   "outputs": [
    {
     "name": "stdout",
     "output_type": "stream",
     "text": [
      "0        @menyrbie @phil_gahan @chrisitv https://t.co/i...\n",
      "1        advice talk to your neighbours family to excha...\n",
      "2        coronavirus australia: woolworths to give elde...\n",
      "3        my food stock is not the only one which is emp...\n",
      "4        me, ready to go at supermarket during the #cov...\n",
      "                               ...                        \n",
      "41152    airline pilots offering to stock supermarket s...\n",
      "41153    response to complaint not provided citing covi...\n",
      "41154    you know itâs getting tough when @kameronwild...\n",
      "41155    is it wrong that the smell of hand sanitizer i...\n",
      "41156    @tartiicat well new/used rift s are going for ...\n",
      "Name: OriginalTweet, Length: 41157, dtype: object\n"
     ]
    }
   ],
   "source": [
    "lower_case_df = coronavirus_tweets.lower_case(coronavirus_tweets_df)\n",
    "print(lower_case_df[\"OriginalTweet\"])"
   ]
  },
  {
   "cell_type": "code",
   "execution_count": 6,
   "metadata": {
    "pycharm": {
     "name": "#%%\n"
    }
   },
   "outputs": [
    {
     "name": "stdout",
     "output_type": "stream",
     "text": [
      "0         menyrbie  phil gahan  chrisitv https   t co i...\n",
      "1        advice talk to your neighbours family to excha...\n",
      "2        coronavirus australia  woolworths to give elde...\n",
      "3        my food stock is not the only one which is emp...\n",
      "4        me  ready to go at supermarket during the  cov...\n",
      "                               ...                        \n",
      "41152    airline pilots offering to stock supermarket s...\n",
      "41153    response to complaint not provided citing covi...\n",
      "41154    you know it  s getting tough when  kameronwild...\n",
      "41155    is it wrong that the smell of hand sanitizer i...\n",
      "41156     tartiicat well new used rift s are going for ...\n",
      "Name: OriginalTweet, Length: 41157, dtype: object\n"
     ]
    }
   ],
   "source": [
    "remove_non_alphabetic_chars_df = coronavirus_tweets.remove_non_alphabetic_chars(lower_case_df)\n",
    "print(remove_non_alphabetic_chars_df[\"OriginalTweet\"])"
   ]
  },
  {
   "cell_type": "code",
   "execution_count": null,
   "metadata": {
    "pycharm": {
     "name": "#%%\n"
    }
   },
   "outputs": [],
   "source": [
    "remove_multiple_consecutive_whitespaces_df = coronavirus_tweets.remove_multiple_consecutive_whitespaces(\n",
    "    remove_non_alphabetic_chars_df)\n",
    "print(remove_multiple_consecutive_whitespaces_df[\"OriginalTweet\"])"
   ]
  },
  {
   "cell_type": "code",
   "execution_count": null,
   "metadata": {
    "pycharm": {
     "name": "#%%\n"
    }
   },
   "outputs": [],
   "source": [
    "tokenize_df = coronavirus_tweets.tokenize(remove_multiple_consecutive_whitespaces_df)\n",
    "print(tokenize_df[\"OriginalTweet_tokenized\"])"
   ]
  },
  {
   "cell_type": "code",
   "execution_count": null,
   "metadata": {
    "pycharm": {
     "name": "#%%\n"
    }
   },
   "outputs": [],
   "source": [
    "counts = coronavirus_tweets.count_words_with_repetitions(tokenize_df)\n",
    "print(counts)"
   ]
  },
  {
   "cell_type": "code",
   "execution_count": null,
   "metadata": {
    "pycharm": {
     "name": "#%%\n"
    }
   },
   "outputs": [],
   "source": [
    "counts_without = coronavirus_tweets.count_words_without_repetitions(tokenize_df)\n",
    "print(counts_without)"
   ]
  },
  {
   "cell_type": "code",
   "execution_count": null,
   "metadata": {
    "pycharm": {
     "name": "#%%\n"
    }
   },
   "outputs": [],
   "source": [
    "\n",
    "top_words = coronavirus_tweets.frequent_words(tokenize_df, 10)\n",
    "print(\"before filtering\")\n",
    "print(top_words)"
   ]
  },
  {
   "cell_type": "code",
   "execution_count": null,
   "metadata": {
    "pycharm": {
     "name": "#%%\n"
    }
   },
   "outputs": [],
   "source": [
    "tdf = coronavirus_tweets.remove_stop_words(tokenize_df)\n",
    "print(tdf.OriginalTweet_tokenized)"
   ]
  },
  {
   "cell_type": "code",
   "execution_count": null,
   "metadata": {
    "pycharm": {
     "name": "#%%\n"
    }
   },
   "outputs": [],
   "source": [
    "counts = coronavirus_tweets.count_words_with_repetitions(tdf)\n",
    "print(counts)"
   ]
  },
  {
   "cell_type": "code",
   "execution_count": null,
   "metadata": {
    "pycharm": {
     "name": "#%%\n"
    }
   },
   "outputs": [],
   "source": [
    "tdf = coronavirus_tweets.stemming(tdf)\n",
    "print(tdf.OriginalTweet_tokenized)"
   ]
  },
  {
   "cell_type": "code",
   "execution_count": null,
   "metadata": {
    "pycharm": {
     "name": "#%%\n"
    }
   },
   "outputs": [],
   "source": [
    "counts = coronavirus_tweets.count_words_with_repetitions(tdf)\n",
    "print(counts)"
   ]
  },
  {
   "cell_type": "code",
   "execution_count": null,
   "metadata": {
    "pycharm": {
     "name": "#%%\n"
    }
   },
   "outputs": [],
   "source": [
    "print(\"after filtering\")\n",
    "top_words = coronavirus_tweets.frequent_words(tdf, 10)\n",
    "print(top_words)"
   ]
  },
  {
   "cell_type": "code",
   "execution_count": null,
   "metadata": {
    "pycharm": {
     "name": "#%%\n"
    }
   },
   "outputs": [],
   "source": [
    "#\n",
    "print(\"begin\")\n",
    "start_time = time.time()\n",
    "y_hat = coronavirus_tweets.mnb_predict(coronavirus_tweets_df)\n",
    "print(time.time() - start_time)"
   ]
  },
  {
   "cell_type": "code",
   "execution_count": null,
   "metadata": {
    "pycharm": {
     "name": "#%%\n"
    }
   },
   "outputs": [],
   "source": [
    "y_true = list(coronavirus_tweets_df.Sentiment.values)\n",
    "\n",
    "accuracy = coronavirus_tweets.mnb_accuracy(y_hat, y_true)\n",
    "print(accuracy)\n",
    "print(time.time()- start)"
   ]
  }
 ],
 "metadata": {
  "kernelspec": {
   "display_name": "Python [conda env:root] *",
   "language": "python",
   "name": "conda-root-py"
  },
  "language_info": {
   "codemirror_mode": {
    "name": "ipython",
    "version": 3
   },
   "file_extension": ".py",
   "mimetype": "text/x-python",
   "name": "python",
   "nbconvert_exporter": "python",
   "pygments_lexer": "ipython3",
   "version": "3.8.8"
  }
 },
 "nbformat": 4,
 "nbformat_minor": 1
}
