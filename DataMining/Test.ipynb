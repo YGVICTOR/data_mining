{
 "cells": [
  {
   "cell_type": "code",
   "execution_count": 2,
   "metadata": {
    "pycharm": {
     "name": "#%%\n"
    }
   },
   "outputs": [
    {
     "name": "stdout",
     "output_type": "stream",
     "text": [
      "['Neutral', 'Positive', 'Extremely Negative', 'Negative', 'Extremely Positive']\n"
     ]
    }
   ],
   "source": [
    "import coronavirus_tweets\n",
    "import time\n",
    "start = time.time()\n",
    "coronavirus_tweets_df = coronavirus_tweets.read_csv_3(\"./data/coronavirus_tweets.csv\")\n",
    "possible_sentiments = coronavirus_tweets.get_sentiments(coronavirus_tweets_df)\n",
    "print(possible_sentiments)"
   ]
  },
  {
   "cell_type": "code",
   "execution_count": 5,
   "metadata": {},
   "outputs": [
    {
     "name": "stdout",
     "output_type": "stream",
     "text": [
      "Negative\n"
     ]
    }
   ],
   "source": [
    "second_most_popular_sentiment = coronavirus_tweets.second_most_popular_sentiment(coronavirus_tweets_df)\n",
    "print(second_most_popular_sentiment)"
   ]
  },
  {
   "cell_type": "code",
   "execution_count": 3,
   "metadata": {
    "pycharm": {
     "name": "#%%\n"
    }
   },
   "outputs": [
    {
     "name": "stdout",
     "output_type": "stream",
     "text": [
      "25-03-2020\n"
     ]
    }
   ],
   "source": [
    "date_most_popular_tweets = coronavirus_tweets.date_most_popular_tweets(coronavirus_tweets_df)\n",
    "print(date_most_popular_tweets)"
   ]
  },
  {
   "cell_type": "code",
   "execution_count": 4,
   "metadata": {
    "pycharm": {
     "name": "#%%\n"
    }
   },
   "outputs": [
    {
     "name": "stdout",
     "output_type": "stream",
     "text": [
      "0        @menyrbie @phil_gahan @chrisitv https://t.co/i...\n",
      "1        advice talk to your neighbours family to excha...\n",
      "2        coronavirus australia: woolworths to give elde...\n",
      "3        my food stock is not the only one which is emp...\n",
      "4        me, ready to go at supermarket during the #cov...\n",
      "                               ...                        \n",
      "41152    airline pilots offering to stock supermarket s...\n",
      "41153    response to complaint not provided citing covi...\n",
      "41154    you know itâs getting tough when @kameronwild...\n",
      "41155    is it wrong that the smell of hand sanitizer i...\n",
      "41156    @tartiicat well new/used rift s are going for ...\n",
      "Name: OriginalTweet, Length: 41157, dtype: object\n"
     ]
    }
   ],
   "source": [
    "lower_case_df = coronavirus_tweets.lower_case(coronavirus_tweets_df)\n",
    "print(lower_case_df[\"OriginalTweet\"])"
   ]
  },
  {
   "cell_type": "code",
   "execution_count": 6,
   "metadata": {
    "pycharm": {
     "name": "#%%\n"
    }
   },
   "outputs": [
    {
     "name": "stdout",
     "output_type": "stream",
     "text": [
      "0         menyrbie  phil gahan  chrisitv https   t co i...\n",
      "1        advice talk to your neighbours family to excha...\n",
      "2        coronavirus australia  woolworths to give elde...\n",
      "3        my food stock is not the only one which is emp...\n",
      "4        me  ready to go at supermarket during the  cov...\n",
      "                               ...                        \n",
      "41152    airline pilots offering to stock supermarket s...\n",
      "41153    response to complaint not provided citing covi...\n",
      "41154    you know it  s getting tough when  kameronwild...\n",
      "41155    is it wrong that the smell of hand sanitizer i...\n",
      "41156     tartiicat well new used rift s are going for ...\n",
      "Name: OriginalTweet, Length: 41157, dtype: object\n"
     ]
    }
   ],
   "source": [
    "remove_non_alphabetic_chars_df = coronavirus_tweets.remove_non_alphabetic_chars(lower_case_df)\n",
    "print(remove_non_alphabetic_chars_df[\"OriginalTweet\"])"
   ]
  },
  {
   "cell_type": "code",
   "execution_count": 7,
   "metadata": {
    "pycharm": {
     "name": "#%%\n"
    }
   },
   "outputs": [
    {
     "name": "stdout",
     "output_type": "stream",
     "text": [
      "0        menyrbie phil gahan chrisitv https t co ifz fa...\n",
      "1        advice talk to your neighbours family to excha...\n",
      "2        coronavirus australia woolworths to give elder...\n",
      "3        my food stock is not the only one which is emp...\n",
      "4        me ready to go at supermarket during the covid...\n",
      "                               ...                        \n",
      "41152    airline pilots offering to stock supermarket s...\n",
      "41153    response to complaint not provided citing covi...\n",
      "41154    you know it s getting tough when kameronwilds ...\n",
      "41155    is it wrong that the smell of hand sanitizer i...\n",
      "41156    tartiicat well new used rift s are going for o...\n",
      "Name: OriginalTweet, Length: 41157, dtype: object\n"
     ]
    }
   ],
   "source": [
    "remove_multiple_consecutive_whitespaces_df = coronavirus_tweets.remove_multiple_consecutive_whitespaces(\n",
    "    remove_non_alphabetic_chars_df)\n",
    "print(remove_multiple_consecutive_whitespaces_df[\"OriginalTweet\"])"
   ]
  },
  {
   "cell_type": "code",
   "execution_count": 8,
   "metadata": {
    "pycharm": {
     "name": "#%%\n"
    }
   },
   "outputs": [
    {
     "name": "stdout",
     "output_type": "stream",
     "text": [
      "0        [menyrbie, phil, gahan, chrisitv, https, t, co...\n",
      "1        [advice, talk, to, your, neighbours, family, t...\n",
      "2        [coronavirus, australia, woolworths, to, give,...\n",
      "3        [my, food, stock, is, not, the, only, one, whi...\n",
      "4        [me, ready, to, go, at, supermarket, during, t...\n",
      "                               ...                        \n",
      "41152    [airline, pilots, offering, to, stock, superma...\n",
      "41153    [response, to, complaint, not, provided, citin...\n",
      "41154    [you, know, it, s, getting, tough, when, kamer...\n",
      "41155    [is, it, wrong, that, the, smell, of, hand, sa...\n",
      "41156    [tartiicat, well, new, used, rift, s, are, goi...\n",
      "Name: OriginalTweet_tokenized, Length: 41157, dtype: object\n"
     ]
    }
   ],
   "source": [
    "tokenize_df = coronavirus_tweets.tokenize(remove_multiple_consecutive_whitespaces_df)\n",
    "print(tokenize_df[\"OriginalTweet_tokenized\"])"
   ]
  },
  {
   "cell_type": "code",
   "execution_count": 9,
   "metadata": {
    "pycharm": {
     "name": "#%%\n"
    }
   },
   "outputs": [
    {
     "name": "stdout",
     "output_type": "stream",
     "text": [
      "1350959\n"
     ]
    }
   ],
   "source": [
    "counts = coronavirus_tweets.count_words_with_repetitions(tokenize_df)\n",
    "print(counts)"
   ]
  },
  {
   "cell_type": "code",
   "execution_count": 10,
   "metadata": {
    "pycharm": {
     "name": "#%%\n"
    }
   },
   "outputs": [
    {
     "name": "stdout",
     "output_type": "stream",
     "text": [
      "80071\n"
     ]
    }
   ],
   "source": [
    "counts_without = coronavirus_tweets.count_words_without_repetitions(tokenize_df)\n",
    "print(counts_without)"
   ]
  },
  {
   "cell_type": "code",
   "execution_count": 11,
   "metadata": {
    "pycharm": {
     "name": "#%%\n"
    }
   },
   "outputs": [
    {
     "name": "stdout",
     "output_type": "stream",
     "text": [
      "before filtering\n",
      "['the', 'to', 't', 'co', 'and', 'https', 'covid', 'of', 'a', 'in']\n"
     ]
    }
   ],
   "source": [
    "\n",
    "top_words = coronavirus_tweets.frequent_words(tokenize_df, 10)\n",
    "print(\"before filtering\")\n",
    "print(top_words)"
   ]
  },
  {
   "cell_type": "code",
   "execution_count": 12,
   "metadata": {
    "pycharm": {
     "name": "#%%\n"
    }
   },
   "outputs": [
    {
     "name": "stdout",
     "output_type": "stream",
     "text": [
      "0        [menyrbie, phil, gahan, chrisitv, https, ifz, ...\n",
      "1        [advice, talk, neighbours, family, exchange, p...\n",
      "2        [coronavirus, australia, woolworths, give, eld...\n",
      "3        [food, stock, empty, don, panic, food, stay, c...\n",
      "4        [ready, supermarket, covid, outbreak, paranoid...\n",
      "                               ...                        \n",
      "41152    [airline, pilots, offering, stock, supermarket...\n",
      "41153    [response, complaint, provided, citing, covid,...\n",
      "41154    [tough, kameronwilds, rationing, toilet, paper...\n",
      "41155    [wrong, smell, hand, sanitizer, starting, turn...\n",
      "41156    [tartiicat, rift, amazon, normal, market, pric...\n",
      "Name: OriginalTweet_tokenized, Length: 41157, dtype: object\n"
     ]
    }
   ],
   "source": [
    "tdf = coronavirus_tweets.remove_stop_words(tokenize_df)\n",
    "print(tdf.OriginalTweet_tokenized)"
   ]
  },
  {
   "cell_type": "code",
   "execution_count": 13,
   "metadata": {
    "pycharm": {
     "name": "#%%\n"
    }
   },
   "outputs": [
    {
     "name": "stdout",
     "output_type": "stream",
     "text": [
      "690677\n"
     ]
    }
   ],
   "source": [
    "counts = coronavirus_tweets.count_words_with_repetitions(tdf)\n",
    "print(counts)"
   ]
  },
  {
   "cell_type": "code",
   "execution_count": null,
   "metadata": {
    "pycharm": {
     "name": "#%%\n"
    }
   },
   "outputs": [],
   "source": [
    "tdf = coronavirus_tweets.stemming(tdf)\n",
    "print(tdf.OriginalTweet_tokenized)"
   ]
  },
  {
   "cell_type": "code",
   "execution_count": null,
   "metadata": {
    "pycharm": {
     "name": "#%%\n"
    }
   },
   "outputs": [],
   "source": [
    "counts = coronavirus_tweets.count_words_with_repetitions(tdf)\n",
    "print(counts)"
   ]
  },
  {
   "cell_type": "code",
   "execution_count": null,
   "metadata": {
    "pycharm": {
     "name": "#%%\n"
    }
   },
   "outputs": [],
   "source": [
    "print(\"after filtering\")\n",
    "top_words = coronavirus_tweets.frequent_words(tdf, 10)\n",
    "print(top_words)"
   ]
  },
  {
   "cell_type": "code",
   "execution_count": null,
   "metadata": {
    "pycharm": {
     "name": "#%%\n"
    }
   },
   "outputs": [],
   "source": [
    "#\n",
    "print(\"begin\")\n",
    "start_time = time.time()\n",
    "y_hat = coronavirus_tweets.mnb_predict(coronavirus_tweets_df)\n",
    "print(time.time() - start_time)"
   ]
  },
  {
   "cell_type": "code",
   "execution_count": null,
   "metadata": {
    "pycharm": {
     "name": "#%%\n"
    }
   },
   "outputs": [],
   "source": [
    "y_true = list(coronavirus_tweets_df.Sentiment.values)\n",
    "\n",
    "accuracy = coronavirus_tweets.mnb_accuracy(y_hat, y_true)\n",
    "print(accuracy)\n",
    "print(time.time()- start)"
   ]
  },
  {
   "cell_type": "code",
   "execution_count": 14,
   "metadata": {},
   "outputs": [],
   "source": [
    "import pandas as pd"
   ]
  },
  {
   "cell_type": "code",
   "execution_count": 16,
   "metadata": {},
   "outputs": [],
   "source": [
    "a =[[[],'b','c'],[[1,2,3]]]"
   ]
  },
  {
   "cell_type": "code",
   "execution_count": 17,
   "metadata": {},
   "outputs": [],
   "source": [
    "b = pd.DataFrame(a)"
   ]
  },
  {
   "cell_type": "code",
   "execution_count": 21,
   "metadata": {},
   "outputs": [
    {
     "data": {
      "text/html": [
       "<div>\n",
       "<style scoped>\n",
       "    .dataframe tbody tr th:only-of-type {\n",
       "        vertical-align: middle;\n",
       "    }\n",
       "\n",
       "    .dataframe tbody tr th {\n",
       "        vertical-align: top;\n",
       "    }\n",
       "\n",
       "    .dataframe thead th {\n",
       "        text-align: right;\n",
       "    }\n",
       "</style>\n",
       "<table border=\"1\" class=\"dataframe\">\n",
       "  <thead>\n",
       "    <tr style=\"text-align: right;\">\n",
       "      <th></th>\n",
       "      <th>0</th>\n",
       "      <th>1</th>\n",
       "      <th>2</th>\n",
       "    </tr>\n",
       "  </thead>\n",
       "  <tbody>\n",
       "    <tr>\n",
       "      <th>0</th>\n",
       "      <td>NaN</td>\n",
       "      <td>b</td>\n",
       "      <td>c</td>\n",
       "    </tr>\n",
       "  </tbody>\n",
       "</table>\n",
       "</div>"
      ],
      "text/plain": [
       "     0  1  2\n",
       "0  NaN  b  c"
      ]
     },
     "execution_count": 21,
     "metadata": {},
     "output_type": "execute_result"
    }
   ],
   "source": [
    "b.explode(0).dro"
   ]
  },
  {
   "cell_type": "code",
   "execution_count": 20,
   "metadata": {},
   "outputs": [
    {
     "data": {
      "text/html": [
       "<div>\n",
       "<style scoped>\n",
       "    .dataframe tbody tr th:only-of-type {\n",
       "        vertical-align: middle;\n",
       "    }\n",
       "\n",
       "    .dataframe tbody tr th {\n",
       "        vertical-align: top;\n",
       "    }\n",
       "\n",
       "    .dataframe thead th {\n",
       "        text-align: right;\n",
       "    }\n",
       "</style>\n",
       "<table border=\"1\" class=\"dataframe\">\n",
       "  <thead>\n",
       "    <tr style=\"text-align: right;\">\n",
       "      <th></th>\n",
       "      <th>0</th>\n",
       "      <th>1</th>\n",
       "      <th>2</th>\n",
       "    </tr>\n",
       "  </thead>\n",
       "  <tbody>\n",
       "    <tr>\n",
       "      <th>0</th>\n",
       "      <td>[]</td>\n",
       "      <td>b</td>\n",
       "      <td>c</td>\n",
       "    </tr>\n",
       "  </tbody>\n",
       "</table>\n",
       "</div>"
      ],
      "text/plain": [
       "    0  1  2\n",
       "0  []  b  c"
      ]
     },
     "execution_count": 20,
     "metadata": {},
     "output_type": "execute_result"
    }
   ],
   "source": [
    "b"
   ]
  },
  {
   "cell_type": "code",
   "execution_count": null,
   "metadata": {},
   "outputs": [],
   "source": []
  }
 ],
 "metadata": {
  "kernelspec": {
   "display_name": "Python [conda env:root] *",
   "language": "python",
   "name": "conda-root-py"
  },
  "language_info": {
   "codemirror_mode": {
    "name": "ipython",
    "version": 3
   },
   "file_extension": ".py",
   "mimetype": "text/x-python",
   "name": "python",
   "nbconvert_exporter": "python",
   "pygments_lexer": "ipython3",
   "version": "3.8.8"
  }
 },
 "nbformat": 4,
 "nbformat_minor": 1
}